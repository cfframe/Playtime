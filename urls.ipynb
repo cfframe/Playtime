{
 "cells": [
  {
   "cell_type": "markdown",
   "metadata": {},
   "source": [
    "Filter a dataframe using a function that includes non-dataframe parameters"
   ]
  },
  {
   "cell_type": "code",
   "execution_count": 7,
   "metadata": {},
   "outputs": [],
   "source": [
    "from urllib.parse import urlparse\n",
    "import pandas as pd"
   ]
  },
  {
   "cell_type": "code",
   "execution_count": 8,
   "metadata": {},
   "outputs": [
    {
     "data": {
      "text/html": [
       "<div>\n",
       "<style scoped>\n",
       "    .dataframe tbody tr th:only-of-type {\n",
       "        vertical-align: middle;\n",
       "    }\n",
       "\n",
       "    .dataframe tbody tr th {\n",
       "        vertical-align: top;\n",
       "    }\n",
       "\n",
       "    .dataframe thead th {\n",
       "        text-align: right;\n",
       "    }\n",
       "</style>\n",
       "<table border=\"1\" class=\"dataframe\">\n",
       "  <thead>\n",
       "    <tr style=\"text-align: right;\">\n",
       "      <th></th>\n",
       "      <th>search_criteria</th>\n",
       "      <th>title</th>\n",
       "      <th>link</th>\n",
       "      <th>snippet</th>\n",
       "    </tr>\n",
       "  </thead>\n",
       "  <tbody>\n",
       "    <tr>\n",
       "      <th>0</th>\n",
       "      <td>ADHD support aberdeen</td>\n",
       "      <td>ADHD Aberdeen &amp; North East Scotland</td>\n",
       "      <td>https://www.facebook.com/groups/93689411968832...</td>\n",
       "      <td>We are a group of dedicated volunteer parents</td>\n",
       "    </tr>\n",
       "    <tr>\n",
       "      <th>1</th>\n",
       "      <td>ADHD support aberdeen</td>\n",
       "      <td>Attention deficit hyperactivity disorder (ADHD)</td>\n",
       "      <td>https://www.oldaberdeenmedicalpractice.scot.nh...</td>\n",
       "      <td>Attention deficit hyperactivity disorder (ADHD...</td>\n",
       "    </tr>\n",
       "    <tr>\n",
       "      <th>2</th>\n",
       "      <td>ADHD support aberdeen</td>\n",
       "      <td>Scottish ADD/ADHD Support Groups</td>\n",
       "      <td>http://www.adders.org.uk/scotlandmap.htm</td>\n",
       "      <td>Scottish ADHD Coalition - The Scottish ADHD co..</td>\n",
       "    </tr>\n",
       "    <tr>\n",
       "      <th>3</th>\n",
       "      <td>ADHD support aberdeen</td>\n",
       "      <td>The Scottish ADHD Coalition</td>\n",
       "      <td>https://www.scottishadhdcoalition.org/</td>\n",
       "      <td>The Scottish ADHD Coalition was launched in Ju..</td>\n",
       "    </tr>\n",
       "    <tr>\n",
       "      <th>4</th>\n",
       "      <td>ADHD support aberdeen</td>\n",
       "      <td>Find ADHD Counsellors and Therapists in</td>\n",
       "      <td>https://www.psychologytoday.com/gb/counselling.</td>\n",
       "      <td>Find the Right ADHD Counsellor in Aberdeen, sc...</td>\n",
       "    </tr>\n",
       "  </tbody>\n",
       "</table>\n",
       "</div>"
      ],
      "text/plain": [
       "         search_criteria                                            title   \n",
       "0  ADHD support aberdeen              ADHD Aberdeen & North East Scotland  \\\n",
       "1  ADHD support aberdeen  Attention deficit hyperactivity disorder (ADHD)   \n",
       "2  ADHD support aberdeen                 Scottish ADD/ADHD Support Groups   \n",
       "3  ADHD support aberdeen                      The Scottish ADHD Coalition   \n",
       "4  ADHD support aberdeen          Find ADHD Counsellors and Therapists in   \n",
       "\n",
       "                                                link   \n",
       "0  https://www.facebook.com/groups/93689411968832...  \\\n",
       "1  https://www.oldaberdeenmedicalpractice.scot.nh...   \n",
       "2           http://www.adders.org.uk/scotlandmap.htm   \n",
       "3             https://www.scottishadhdcoalition.org/   \n",
       "4    https://www.psychologytoday.com/gb/counselling.   \n",
       "\n",
       "                                             snippet  \n",
       "0      We are a group of dedicated volunteer parents  \n",
       "1  Attention deficit hyperactivity disorder (ADHD...  \n",
       "2   Scottish ADHD Coalition - The Scottish ADHD co..  \n",
       "3   The Scottish ADHD Coalition was launched in Ju..  \n",
       "4  Find the Right ADHD Counsellor in Aberdeen, sc...  "
      ]
     },
     "execution_count": 8,
     "metadata": {},
     "output_type": "execute_result"
    }
   ],
   "source": [
    "# Read in file\n",
    "df = pd.read_csv('urls.csv')\n",
    "df"
   ]
  },
  {
   "cell_type": "code",
   "execution_count": 9,
   "metadata": {},
   "outputs": [],
   "source": [
    "# set undesired list\n",
    "undesired_sites = ['facebook', 'adders']"
   ]
  },
  {
   "cell_type": "code",
   "execution_count": 10,
   "metadata": {},
   "outputs": [],
   "source": [
    "\n",
    "def is_desired(web_url: str, undesired_list: list):\n",
    "    root_domain = urlparse(web_url).hostname.replace('www.', '')\n",
    "    if any(map(root_domain.__contains__, undesired_list)): return False \n",
    "\n",
    "    return True"
   ]
  },
  {
   "cell_type": "code",
   "execution_count": 11,
   "metadata": {},
   "outputs": [],
   "source": [
    "df['is_desired'] = df['link'].apply(is_desired, args=(undesired_sites,))"
   ]
  },
  {
   "cell_type": "code",
   "execution_count": 12,
   "metadata": {},
   "outputs": [
    {
     "data": {
      "text/html": [
       "<div>\n",
       "<style scoped>\n",
       "    .dataframe tbody tr th:only-of-type {\n",
       "        vertical-align: middle;\n",
       "    }\n",
       "\n",
       "    .dataframe tbody tr th {\n",
       "        vertical-align: top;\n",
       "    }\n",
       "\n",
       "    .dataframe thead th {\n",
       "        text-align: right;\n",
       "    }\n",
       "</style>\n",
       "<table border=\"1\" class=\"dataframe\">\n",
       "  <thead>\n",
       "    <tr style=\"text-align: right;\">\n",
       "      <th></th>\n",
       "      <th>search_criteria</th>\n",
       "      <th>title</th>\n",
       "      <th>link</th>\n",
       "      <th>snippet</th>\n",
       "      <th>is_desired</th>\n",
       "    </tr>\n",
       "  </thead>\n",
       "  <tbody>\n",
       "    <tr>\n",
       "      <th>1</th>\n",
       "      <td>ADHD support aberdeen</td>\n",
       "      <td>Attention deficit hyperactivity disorder (ADHD)</td>\n",
       "      <td>https://www.oldaberdeenmedicalpractice.scot.nh...</td>\n",
       "      <td>Attention deficit hyperactivity disorder (ADHD...</td>\n",
       "      <td>True</td>\n",
       "    </tr>\n",
       "    <tr>\n",
       "      <th>3</th>\n",
       "      <td>ADHD support aberdeen</td>\n",
       "      <td>The Scottish ADHD Coalition</td>\n",
       "      <td>https://www.scottishadhdcoalition.org/</td>\n",
       "      <td>The Scottish ADHD Coalition was launched in Ju..</td>\n",
       "      <td>True</td>\n",
       "    </tr>\n",
       "    <tr>\n",
       "      <th>4</th>\n",
       "      <td>ADHD support aberdeen</td>\n",
       "      <td>Find ADHD Counsellors and Therapists in</td>\n",
       "      <td>https://www.psychologytoday.com/gb/counselling.</td>\n",
       "      <td>Find the Right ADHD Counsellor in Aberdeen, sc...</td>\n",
       "      <td>True</td>\n",
       "    </tr>\n",
       "  </tbody>\n",
       "</table>\n",
       "</div>"
      ],
      "text/plain": [
       "         search_criteria                                            title   \n",
       "1  ADHD support aberdeen  Attention deficit hyperactivity disorder (ADHD)  \\\n",
       "3  ADHD support aberdeen                      The Scottish ADHD Coalition   \n",
       "4  ADHD support aberdeen          Find ADHD Counsellors and Therapists in   \n",
       "\n",
       "                                                link   \n",
       "1  https://www.oldaberdeenmedicalpractice.scot.nh...  \\\n",
       "3             https://www.scottishadhdcoalition.org/   \n",
       "4    https://www.psychologytoday.com/gb/counselling.   \n",
       "\n",
       "                                             snippet  is_desired  \n",
       "1  Attention deficit hyperactivity disorder (ADHD...        True  \n",
       "3   The Scottish ADHD Coalition was launched in Ju..        True  \n",
       "4  Find the Right ADHD Counsellor in Aberdeen, sc...        True  "
      ]
     },
     "execution_count": 12,
     "metadata": {},
     "output_type": "execute_result"
    }
   ],
   "source": [
    "df[df['is_desired']]"
   ]
  }
 ],
 "metadata": {
  "kernelspec": {
   "display_name": "MyProjectEnv",
   "language": "python",
   "name": "python3"
  },
  "language_info": {
   "codemirror_mode": {
    "name": "ipython",
    "version": 3
   },
   "file_extension": ".py",
   "mimetype": "text/x-python",
   "name": "python",
   "nbconvert_exporter": "python",
   "pygments_lexer": "ipython3",
   "version": "3.10.11"
  },
  "orig_nbformat": 4
 },
 "nbformat": 4,
 "nbformat_minor": 2
}
