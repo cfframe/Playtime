{
 "cells": [
  {
   "cell_type": "code",
   "execution_count": null,
   "metadata": {},
   "outputs": [],
   "source": [
    "import scipy.stats\n",
    "import numpy as np\n",
    "import csv"
   ]
  },
  {
   "cell_type": "markdown",
   "metadata": {},
   "source": [
    "Start with example given in scipy docs at [scipy.stats.rv_histogram](https://docs.scipy.org/doc/scipy/reference/generated/scipy.stats.rv_histogram.html).\n",
    "Small tweak - use 10 bins instead of 100."
   ]
  },
  {
   "cell_type": "code",
   "execution_count": null,
   "metadata": {},
   "outputs": [],
   "source": [
    "# rvs - random variates of any type\n",
    "data = scipy.stats.norm.rvs(size=100000, loc=0, scale=1.5, random_state=123)\n",
    "print(f\"No of data items: {len(data)}\")\n",
    "data"
   ]
  },
  {
   "cell_type": "code",
   "execution_count": null,
   "metadata": {},
   "outputs": [],
   "source": [
    "hist = np.histogram(data, bins=10)\n",
    "hist"
   ]
  },
  {
   "cell_type": "code",
   "execution_count": null,
   "metadata": {},
   "outputs": [],
   "source": [
    "hist_dist = scipy.stats.rv_histogram(hist, density=False)\n",
    "print(f\"pdf: {hist_dist.pdf(1.0)}\")\n",
    "print(f\"cdf: {hist_dist.cdf(2.0)}\")"
   ]
  },
  {
   "cell_type": "code",
   "execution_count": null,
   "metadata": {},
   "outputs": [],
   "source": [
    "import matplotlib.pyplot as plt\n",
    "\n",
    "x = np.linspace(-5.0, 5.0, 100)\n",
    "fig, ax = plt.subplots()\n",
    "ax.set_title(\"PDF from Template\")\n",
    "ax.hist(data, density=True, bins=100)\n",
    "ax.plot(x, hist_dist.pdf(x), label=\"PDF\")\n",
    "ax.plot(x, hist_dist.cdf(x), label=\"CDF\")\n",
    "ax.legend()\n",
    "# Use plt.show instead of fig.show\n",
    "plt.show()"
   ]
  },
  {
   "cell_type": "markdown",
   "metadata": {},
   "source": [
    "Now try own data, include smoothing."
   ]
  },
  {
   "cell_type": "code",
   "execution_count": null,
   "metadata": {},
   "outputs": [],
   "source": [
    "model1_no_fraud_path = \"data/CountModel1ScoresNoFraud.csv\"\n",
    "model1_fraud_path = \"data/CountModel1ScoresFraud.csv\"\n",
    "\n",
    "data = np.genfromtxt(\n",
    "    fname=model1_no_fraud_path, delimiter=\",\", skip_header=True, dtype=\"<i4\"\n",
    ")"
   ]
  },
  {
   "cell_type": "code",
   "execution_count": null,
   "metadata": {},
   "outputs": [],
   "source": [
    "# Try smoothing\n",
    "# https://stackoverflow.com/questions/60583088/generate-probability-distribution-or-smoothing-plot-from-points-containing-proba/60586523#60586523\n",
    "from scipy.stats import gaussian_kde\n",
    "\n",
    "x = np.linspace(0, 1000, 500)\n",
    "fig, ax = plt.subplots()\n",
    "\n",
    "ax.step(data[:, 0], data[:, 1], color=\"dodgerblue\", lw=1, ls=\":\", where=\"pre\")\n",
    "ax2 = ax.twinx()\n",
    "kde = gaussian_kde(data[:, 0] - 50, bw_method=0.25, weights=data[:, 1])\n",
    "ax2.plot(x, kde(x), color=\"crimson\")"
   ]
  },
  {
   "cell_type": "code",
   "execution_count": null,
   "metadata": {},
   "outputs": [],
   "source": [
    "import matplotlib.pyplot as plt\n",
    "\n",
    "kde = gaussian_kde(data[:, 0] - 50, bw_method=0.25, weights=data[:, 1])\n",
    "\n",
    "x = np.linspace(-50, 1000, 500)\n",
    "fig, ax = plt.subplots()\n",
    "\n",
    "ax.set_title(\"Probability Density\")\n",
    "\n",
    "ax.plot(x, kde.pdf(x), label=\"PDF\")\n",
    "# ax.plot(x, hist_dist.cdf(x), label=\"CDF\")\n",
    "ax.legend()\n",
    "# Use plt.show instead of fig.show\n",
    "plt.show()"
   ]
  },
  {
   "cell_type": "markdown",
   "metadata": {},
   "source": [
    "Do same with fraud dataset."
   ]
  },
  {
   "cell_type": "code",
   "execution_count": null,
   "metadata": {},
   "outputs": [],
   "source": [
    "data = np.genfromtxt(\n",
    "    fname=model1_fraud_path, delimiter=\",\", skip_header=True, dtype=\"<i4\"\n",
    ")"
   ]
  },
  {
   "cell_type": "code",
   "execution_count": null,
   "metadata": {},
   "outputs": [],
   "source": [
    "# Play with bw_method value for closer fit\n",
    "from scipy.stats import gaussian_kde\n",
    "\n",
    "x = np.linspace(0, 1000, 500)\n",
    "fig, ax = plt.subplots()\n",
    "\n",
    "ax.step(data[:, 0], data[:, 1], color=\"dodgerblue\", lw=1, ls=\":\", where=\"pre\")\n",
    "ax2 = ax.twinx()\n",
    "kde = gaussian_kde(data[:, 0] - 50, bw_method=0.18, weights=data[:, 1])\n",
    "ax2.plot(x, kde(x), color=\"crimson\")"
   ]
  },
  {
   "cell_type": "code",
   "execution_count": null,
   "metadata": {},
   "outputs": [],
   "source": [
    "import matplotlib.pyplot as plt\n",
    "\n",
    "kde = gaussian_kde(data[:, 0] - 50, bw_method=0.18, weights=data[:, 1])\n",
    "\n",
    "x = np.linspace(-50, 1000, 500)\n",
    "fig, ax = plt.subplots()\n",
    "\n",
    "ax.set_title(\"Probability Density\")\n",
    "\n",
    "ax.plot(x, kde.pdf(x), label=\"PDF\")\n",
    "# ax.plot(x, hist_dist.cdf(x), label=\"CDF\")\n",
    "ax.legend()\n",
    "# Use plt.show instead of fig.show\n",
    "plt.show()"
   ]
  }
 ],
 "metadata": {
  "kernelspec": {
   "display_name": "Playtime",
   "language": "python",
   "name": "python3"
  },
  "language_info": {
   "codemirror_mode": {
    "name": "ipython",
    "version": 3
   },
   "file_extension": ".py",
   "mimetype": "text/x-python",
   "name": "python",
   "nbconvert_exporter": "python",
   "pygments_lexer": "ipython3",
   "version": "3.10.12"
  },
  "orig_nbformat": 4
 },
 "nbformat": 4,
 "nbformat_minor": 2
}
