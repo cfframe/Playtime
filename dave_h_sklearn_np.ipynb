{
 "cells": [
  {
   "attachments": {},
   "cell_type": "markdown",
   "metadata": {},
   "source": [
    "# A colleague's problem - numpy on a dataframe\n",
    "Base code started from [sklearn.model_selection.train_test_split](https://scikit-learn.org/stable/modules/generated/sklearn.model_selection.train_test_split.html)\n",
    "\n",
    "Error experienced: \n",
    "```\n",
    "Output is ValueError: Shape of passed values is (892824, 31), indices imply (892824, 32)\n",
    "```"
   ]
  },
  {
   "attachments": {},
   "cell_type": "markdown",
   "metadata": {},
   "source": [
    "## Set up\n",
    "Generate DataFrame with 32 headed columns, plus labels to use with `sklearn`"
   ]
  },
  {
   "cell_type": "code",
   "execution_count": null,
   "metadata": {},
   "outputs": [],
   "source": [
    "import numpy as np\n",
    "from sklearn.model_selection import train_test_split\n",
    "x, y = np.arange(320).reshape((10, 32)), range(10)"
   ]
  },
  {
   "cell_type": "code",
   "execution_count": null,
   "metadata": {},
   "outputs": [],
   "source": [
    "# Generate column names for x_df\n",
    "# Copy and paste the result into the next cell\n",
    "l = []\n",
    "for i in range(32):\n",
    "    l.append(f\"'Col{i+1}': x[:, {i}],\")\n",
    "\n",
    "' '.join(l)"
   ]
  },
  {
   "cell_type": "code",
   "execution_count": null,
   "metadata": {},
   "outputs": [],
   "source": [
    "import pandas as pd\n",
    "x_df = pd.DataFrame({\n",
    "    'Col1': x[:, 0], 'Col2': x[:, 1], 'Col3': x[:, 2], 'Col4': x[:, 3], 'Col5': x[:, 4], 'Col6': x[:, 5], 'Col7': x[:, 6], 'Col8': x[:, 7], 'Col9': x[:, 8], 'Col10': x[:, 9], 'Col11': x[:, 10], 'Col12': x[:, 11], 'Col13': x[:, 12], 'Col14': x[:, 13], 'Col15': x[:, 14], 'Col16': x[:, 15], 'Col17': x[:, 16], 'Col18': x[:, 17], 'Col19': x[:, 18], 'Col20': x[:, 19], 'Col21': x[:, 20], 'Col22': x[:, 21], 'Col23': x[:, 22], 'Col24': x[:, 23], 'Col25': x[:, 24], 'Col26': x[:, 25], 'Col27': x[:, 26], 'Col28': x[:, 27], 'Col29': x[:, 28], 'Col30': x[:, 29], 'Col31': x[:, 30], 'Col32': x[:, 31]\n",
    "})\n",
    "\n",
    "\n",
    "x_df"
   ]
  },
  {
   "cell_type": "code",
   "execution_count": null,
   "metadata": {},
   "outputs": [],
   "source": [
    "list(y)"
   ]
  },
  {
   "attachments": {},
   "cell_type": "markdown",
   "metadata": {},
   "source": [
    "Generate train/test splits"
   ]
  },
  {
   "cell_type": "code",
   "execution_count": null,
   "metadata": {},
   "outputs": [],
   "source": [
    "x_train_base, x_test, y_train, y_test = train_test_split(\n",
    "    x_df, y, test_size=0.33, random_state=42)"
   ]
  },
  {
   "cell_type": "code",
   "execution_count": null,
   "metadata": {},
   "outputs": [],
   "source": [
    "print(x_train_base)\n",
    "x_train_base"
   ]
  },
  {
   "cell_type": "code",
   "execution_count": null,
   "metadata": {},
   "outputs": [],
   "source": [
    "x_test"
   ]
  },
  {
   "cell_type": "code",
   "execution_count": null,
   "metadata": {},
   "outputs": [],
   "source": [
    "y_train"
   ]
  },
  {
   "cell_type": "code",
   "execution_count": null,
   "metadata": {},
   "outputs": [],
   "source": [
    "y_test"
   ]
  },
  {
   "cell_type": "code",
   "execution_count": null,
   "metadata": {},
   "outputs": [],
   "source": [
    "train_test_split(y, shuffle=False)"
   ]
  },
  {
   "cell_type": "code",
   "execution_count": null,
   "metadata": {},
   "outputs": [],
   "source": [
    "print(\"x_train_base shape: \", x_train_base.shape)"
   ]
  },
  {
   "attachments": {},
   "cell_type": "markdown",
   "metadata": {},
   "source": [
    "## Solution, followed by original non-working line"
   ]
  },
  {
   "cell_type": "code",
   "execution_count": null,
   "metadata": {},
   "outputs": [],
   "source": [
    "# A solution for Dave H's error (see next cell)\n",
    "x_train = x_train_base.loc[:, x_train_base.columns != 'Col31']\n",
    "x_train"
   ]
  },
  {
   "cell_type": "code",
   "execution_count": null,
   "metadata": {},
   "outputs": [],
   "source": [
    "# This generate's Dave H's error\n",
    "x_train = np.delete(x_train_base,30,1)"
   ]
  }
 ],
 "metadata": {
  "kernelspec": {
   "display_name": "Playtime",
   "language": "python",
   "name": "python3"
  },
  "language_info": {
   "codemirror_mode": {
    "name": "ipython",
    "version": 3
   },
   "file_extension": ".py",
   "mimetype": "text/x-python",
   "name": "python",
   "nbconvert_exporter": "python",
   "pygments_lexer": "ipython3",
   "version": "3.10.9"
  },
  "orig_nbformat": 4,
  "vscode": {
   "interpreter": {
    "hash": "c7beab66188cb3986d767c2434a6303bb2744785a9afc17320043a55dbf8758b"
   }
  }
 },
 "nbformat": 4,
 "nbformat_minor": 2
}
